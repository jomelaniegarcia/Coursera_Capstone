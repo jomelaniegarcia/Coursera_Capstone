{
    "nbformat_minor": 1, 
    "cells": [
        {
            "source": "<h1 align=center><font size = 5>Segmenting and Clustering Neighborhoods in Toronto Part 2</font></h1>", 
            "cell_type": "markdown", 
            "metadata": {}
        }, 
        {
            "execution_count": 1, 
            "cell_type": "code", 
            "metadata": {}, 
            "outputs": [], 
            "source": "import numpy as np # library to handle data in a vectorized manner\nimport pandas as pd # library for data analsysis\nimport json # library to handle JSON files\n"
        }, 
        {
            "source": "## Install necessary APIs", 
            "cell_type": "markdown", 
            "metadata": {}
        }, 
        {
            "execution_count": 2, 
            "cell_type": "code", 
            "metadata": {}, 
            "outputs": [], 
            "source": "#Install beautiful soup\n#!conda install beautifulsoup4\n#!conda install lxml\n#!conda install html5lib\n#!conda install requests"
        }, 
        {
            "source": "# 2. Extract the table from the website\n\nUse the Notebook to build the code to scrape the following Wikipedia page, https://en.wikipedia.org/wiki/List_of_postal_codes_of_Canada:_M, in order to obtain the data that is in the table of postal codes and to transform the data into a pandas dataframe like the one shown below:", 
            "cell_type": "markdown", 
            "metadata": {}
        }, 
        {
            "execution_count": 3, 
            "cell_type": "code", 
            "metadata": {}, 
            "outputs": [], 
            "source": "from bs4 import BeautifulSoup\nimport requests\nwikiweb_link=\"https://en.wikipedia.org/wiki/List_of_postal_codes_of_Canada:_M\"\nsource=requests.get(wikiweb_link).text"
        }, 
        {
            "execution_count": 4, 
            "cell_type": "code", 
            "metadata": {}, 
            "outputs": [], 
            "source": "soup=BeautifulSoup(source,'lxml')\n#print(soup)"
        }, 
        {
            "execution_count": 5, 
            "cell_type": "code", 
            "metadata": {}, 
            "outputs": [], 
            "source": "#scape the website, get the table and convert to pandas dataframe\ncitytable=soup.find('table',class_=\"wikitable sortable\")\ndfcity = pd.read_html(str(citytable), header=0)[0]"
        }, 
        {
            "execution_count": 6, 
            "cell_type": "code", 
            "metadata": {}, 
            "outputs": [], 
            "source": "# convert all columns to string\ndfcity['Postcode'] = dfcity['Postcode'].astype(str)\ndfcity['Borough'] = dfcity['Borough'].astype(str)\ndfcity['Neighbourhood'] = dfcity['Neighbourhood'].astype(str)"
        }, 
        {
            "execution_count": 7, 
            "cell_type": "code", 
            "metadata": {}, 
            "outputs": [
                {
                    "execution_count": 7, 
                    "metadata": {}, 
                    "data": {
                        "text/html": "<div>\n<style scoped>\n    .dataframe tbody tr th:only-of-type {\n        vertical-align: middle;\n    }\n\n    .dataframe tbody tr th {\n        vertical-align: top;\n    }\n\n    .dataframe thead th {\n        text-align: right;\n    }\n</style>\n<table border=\"1\" class=\"dataframe\">\n  <thead>\n    <tr style=\"text-align: right;\">\n      <th></th>\n      <th>Postcode</th>\n      <th>Borough</th>\n      <th>Neighbourhood</th>\n    </tr>\n  </thead>\n  <tbody>\n    <tr>\n      <th>0</th>\n      <td>M1A</td>\n      <td>Not assigned</td>\n      <td>Not assigned</td>\n    </tr>\n    <tr>\n      <th>1</th>\n      <td>M2A</td>\n      <td>Not assigned</td>\n      <td>Not assigned</td>\n    </tr>\n    <tr>\n      <th>2</th>\n      <td>M3A</td>\n      <td>North York</td>\n      <td>Parkwoods</td>\n    </tr>\n    <tr>\n      <th>3</th>\n      <td>M4A</td>\n      <td>North York</td>\n      <td>Victoria Village</td>\n    </tr>\n    <tr>\n      <th>4</th>\n      <td>M5A</td>\n      <td>Downtown Toronto</td>\n      <td>Harbourfront</td>\n    </tr>\n  </tbody>\n</table>\n</div>", 
                        "text/plain": "  Postcode           Borough     Neighbourhood\n0      M1A      Not assigned      Not assigned\n1      M2A      Not assigned      Not assigned\n2      M3A        North York         Parkwoods\n3      M4A        North York  Victoria Village\n4      M5A  Downtown Toronto      Harbourfront"
                    }, 
                    "output_type": "execute_result"
                }
            ], 
            "source": "dfcity.head()\n#dfcity.shape"
        }, 
        {
            "source": "# 3.To create the above dataframe\n\n<ul>\n\n<li>The dataframe will consist of three columns: PostalCode, Borough, and Neighborhood</a> </li>\n<li>Only process the cells that have an assigned borough. Ignore cells with a borough that is Not assigned.</a> </li>\n<li>More than one neighborhood can exist in one postal code area. For example, in the table on the Wikipedia page, you will notice that M5A is listed twice and has two neighborhoods: Harbourfront and Regent Park. These two rows will be combined into one row with the neighborhoods separated with a comma as shown in row 11 in the above table.</a> </li>\n<li>If a cell has a borough but a Not assigned neighborhood, then the neighborhood will be the same as the borough. So for the 9th cell in the table on the Wikipedia page, the value of the Borough and the Neighborhood columns will be Queen's Park.</a> </li>\n<li>Clean your Notebook and add Markdown cells to explain your work and any assumptions you are making.</a> </li>\n<li>In the last cell of your notebook, use the .shape method to print the number of rows of your dataframe.</a> </li>\n  \n</ul>", 
            "cell_type": "markdown", 
            "metadata": {}
        }, 
        {
            "execution_count": 8, 
            "cell_type": "code", 
            "metadata": {}, 
            "outputs": [
                {
                    "execution_count": 8, 
                    "metadata": {}, 
                    "data": {
                        "text/html": "<div>\n<style scoped>\n    .dataframe tbody tr th:only-of-type {\n        vertical-align: middle;\n    }\n\n    .dataframe tbody tr th {\n        vertical-align: top;\n    }\n\n    .dataframe thead th {\n        text-align: right;\n    }\n</style>\n<table border=\"1\" class=\"dataframe\">\n  <thead>\n    <tr style=\"text-align: right;\">\n      <th></th>\n      <th>Postcode</th>\n      <th>Borough</th>\n      <th>Neighbourhood</th>\n    </tr>\n  </thead>\n  <tbody>\n    <tr>\n      <th>2</th>\n      <td>M3A</td>\n      <td>North York</td>\n      <td>Parkwoods</td>\n    </tr>\n    <tr>\n      <th>3</th>\n      <td>M4A</td>\n      <td>North York</td>\n      <td>Victoria Village</td>\n    </tr>\n    <tr>\n      <th>4</th>\n      <td>M5A</td>\n      <td>Downtown Toronto</td>\n      <td>Harbourfront</td>\n    </tr>\n    <tr>\n      <th>5</th>\n      <td>M5A</td>\n      <td>Downtown Toronto</td>\n      <td>Regent Park</td>\n    </tr>\n    <tr>\n      <th>6</th>\n      <td>M6A</td>\n      <td>North York</td>\n      <td>Lawrence Heights</td>\n    </tr>\n  </tbody>\n</table>\n</div>", 
                        "text/plain": "  Postcode           Borough     Neighbourhood\n2      M3A        North York         Parkwoods\n3      M4A        North York  Victoria Village\n4      M5A  Downtown Toronto      Harbourfront\n5      M5A  Downtown Toronto       Regent Park\n6      M6A        North York  Lawrence Heights"
                    }, 
                    "output_type": "execute_result"
                }
            ], 
            "source": "#1. remove data with 'Not assigned' on Borough\ndfcity=dfcity.drop(dfcity[dfcity.Borough=='Not assigned'].index)\ndfcity.head()"
        }, 
        {
            "execution_count": 9, 
            "cell_type": "code", 
            "metadata": {}, 
            "outputs": [
                {
                    "execution_count": 9, 
                    "metadata": {}, 
                    "data": {
                        "text/html": "<div>\n<style scoped>\n    .dataframe tbody tr th:only-of-type {\n        vertical-align: middle;\n    }\n\n    .dataframe tbody tr th {\n        vertical-align: top;\n    }\n\n    .dataframe thead th {\n        text-align: right;\n    }\n</style>\n<table border=\"1\" class=\"dataframe\">\n  <thead>\n    <tr style=\"text-align: right;\">\n      <th></th>\n      <th>Postcode</th>\n      <th>Borough</th>\n      <th>Neighbourhood</th>\n    </tr>\n  </thead>\n  <tbody>\n    <tr>\n      <th>0</th>\n      <td>M1B</td>\n      <td>Scarborough</td>\n      <td>Rouge,Malvern</td>\n    </tr>\n    <tr>\n      <th>1</th>\n      <td>M1C</td>\n      <td>Scarborough</td>\n      <td>Highland Creek,Rouge Hill,Port Union</td>\n    </tr>\n    <tr>\n      <th>2</th>\n      <td>M1E</td>\n      <td>Scarborough</td>\n      <td>Guildwood,Morningside,West Hill</td>\n    </tr>\n    <tr>\n      <th>3</th>\n      <td>M1G</td>\n      <td>Scarborough</td>\n      <td>Woburn</td>\n    </tr>\n    <tr>\n      <th>4</th>\n      <td>M1H</td>\n      <td>Scarborough</td>\n      <td>Cedarbrae</td>\n    </tr>\n  </tbody>\n</table>\n</div>", 
                        "text/plain": "  Postcode      Borough                         Neighbourhood\n0      M1B  Scarborough                         Rouge,Malvern\n1      M1C  Scarborough  Highland Creek,Rouge Hill,Port Union\n2      M1E  Scarborough       Guildwood,Morningside,West Hill\n3      M1G  Scarborough                                Woburn\n4      M1H  Scarborough                             Cedarbrae"
                    }, 
                    "output_type": "execute_result"
                }
            ], 
            "source": "#2. combine data with same postcode.\ndfcity=dfcity.groupby(['Postcode',\"Borough\"])[\"Neighbourhood\"].apply(lambda x: ','.join(x)).reset_index()\ndfcity.head()"
        }, 
        {
            "execution_count": 10, 
            "cell_type": "code", 
            "metadata": {}, 
            "outputs": [
                {
                    "execution_count": 10, 
                    "metadata": {}, 
                    "data": {
                        "text/html": "<div>\n<style scoped>\n    .dataframe tbody tr th:only-of-type {\n        vertical-align: middle;\n    }\n\n    .dataframe tbody tr th {\n        vertical-align: top;\n    }\n\n    .dataframe thead th {\n        text-align: right;\n    }\n</style>\n<table border=\"1\" class=\"dataframe\">\n  <thead>\n    <tr style=\"text-align: right;\">\n      <th></th>\n      <th>Postcode</th>\n      <th>Borough</th>\n      <th>Neighbourhood</th>\n    </tr>\n  </thead>\n  <tbody>\n    <tr>\n      <th>85</th>\n      <td>M7A</td>\n      <td>Queen's Park</td>\n      <td>Queen's Park</td>\n    </tr>\n  </tbody>\n</table>\n</div>", 
                        "text/plain": "   Postcode       Borough Neighbourhood\n85      M7A  Queen's Park  Queen's Park"
                    }, 
                    "output_type": "execute_result"
                }
            ], 
            "source": "#3. If a cell has a borough but a Not assigned neighborhood, \n#then the neighborhood will be the same as the borough. \n#So for the 9th cell in the table on the Wikipedia page, \n#the value of the Borough and the Neighborhood columns will be Queen's Park.\ndfcity['Neighbourhood'].loc[dfcity['Neighbourhood'].str.contains('Not assigned')]=dfcity['Borough']\n\nwiwi=dfcity[dfcity['Postcode'].str.contains('M7A')]\nwiwi"
        }, 
        {
            "execution_count": 11, 
            "cell_type": "code", 
            "metadata": {
                "scrolled": true
            }, 
            "outputs": [
                {
                    "execution_count": 11, 
                    "metadata": {}, 
                    "data": {
                        "text/plain": "(103, 3)"
                    }, 
                    "output_type": "execute_result"
                }
            ], 
            "source": "#In the last cell of your notebook, use the .shape method to print the number of rows of your dataframe.\ndfcity.shape"
        }, 
        {
            "source": "# Get Longtitude and Latitude of each Neighborhood", 
            "cell_type": "markdown", 
            "metadata": {}
        }, 
        {
            "source": "### Try to get from geopy", 
            "cell_type": "markdown", 
            "metadata": {}
        }, 
        {
            "execution_count": 12, 
            "cell_type": "code", 
            "metadata": {}, 
            "outputs": [], 
            "source": "#Install Geocoder\n#!conda install -c conda-forge geopy --yes \nfrom geopy.geocoders import Nominatim # module to convert an address into latitude and longitude values\n\n"
        }, 
        {
            "execution_count": 13, 
            "cell_type": "code", 
            "metadata": {}, 
            "outputs": [
                {
                    "execution_count": 13, 
                    "metadata": {}, 
                    "data": {
                        "text/html": "<div>\n<style scoped>\n    .dataframe tbody tr th:only-of-type {\n        vertical-align: middle;\n    }\n\n    .dataframe tbody tr th {\n        vertical-align: top;\n    }\n\n    .dataframe thead th {\n        text-align: right;\n    }\n</style>\n<table border=\"1\" class=\"dataframe\">\n  <thead>\n    <tr style=\"text-align: right;\">\n      <th></th>\n      <th>Postcode</th>\n      <th>Borough</th>\n      <th>Neighborhood</th>\n      <th>Latitude</th>\n      <th>Longitude</th>\n    </tr>\n  </thead>\n  <tbody>\n  </tbody>\n</table>\n</div>", 
                        "text/plain": "Empty DataFrame\nColumns: [Postcode, Borough, Neighborhood, Latitude, Longitude]\nIndex: []"
                    }, 
                    "output_type": "execute_result"
                }
            ], 
            "source": "column_names=['Postcode', 'Borough', 'Neighborhood', 'Latitude', 'Longitude']\n# instantiate new dataframe\nneighborhoods = pd.DataFrame(columns=column_names)\nneighborhoods"
        }, 
        {
            "execution_count": 14, 
            "cell_type": "code", 
            "metadata": {}, 
            "outputs": [
                {
                    "execution_count": 14, 
                    "metadata": {}, 
                    "data": {
                        "text/html": "<div>\n<style scoped>\n    .dataframe tbody tr th:only-of-type {\n        vertical-align: middle;\n    }\n\n    .dataframe tbody tr th {\n        vertical-align: top;\n    }\n\n    .dataframe thead th {\n        text-align: right;\n    }\n</style>\n<table border=\"1\" class=\"dataframe\">\n  <thead>\n    <tr style=\"text-align: right;\">\n      <th></th>\n      <th>Postcode</th>\n      <th>Borough</th>\n      <th>Neighborhood</th>\n      <th>Latitude</th>\n      <th>Longitude</th>\n    </tr>\n  </thead>\n  <tbody>\n    <tr>\n      <th>0</th>\n      <td>M1B</td>\n      <td>Scarborough</td>\n      <td>Rouge,Malvern</td>\n      <td>43.773077</td>\n      <td>-79.257774</td>\n    </tr>\n    <tr>\n      <th>1</th>\n      <td>M1C</td>\n      <td>Scarborough</td>\n      <td>Highland Creek,Rouge Hill,Port Union</td>\n      <td>43.773077</td>\n      <td>-79.257774</td>\n    </tr>\n    <tr>\n      <th>2</th>\n      <td>M1E</td>\n      <td>Scarborough</td>\n      <td>Guildwood,Morningside,West Hill</td>\n      <td>0.000000</td>\n      <td>0.000000</td>\n    </tr>\n    <tr>\n      <th>3</th>\n      <td>M1G</td>\n      <td>Scarborough</td>\n      <td>Woburn</td>\n      <td>0.000000</td>\n      <td>0.000000</td>\n    </tr>\n    <tr>\n      <th>4</th>\n      <td>M1H</td>\n      <td>Scarborough</td>\n      <td>Cedarbrae</td>\n      <td>0.000000</td>\n      <td>0.000000</td>\n    </tr>\n  </tbody>\n</table>\n</div>", 
                        "text/plain": "  Postcode      Borough                          Neighborhood   Latitude  \\\n0      M1B  Scarborough                         Rouge,Malvern  43.773077   \n1      M1C  Scarborough  Highland Creek,Rouge Hill,Port Union  43.773077   \n2      M1E  Scarborough       Guildwood,Morningside,West Hill   0.000000   \n3      M1G  Scarborough                                Woburn   0.000000   \n4      M1H  Scarborough                             Cedarbrae   0.000000   \n\n   Longitude  \n0 -79.257774  \n1 -79.257774  \n2   0.000000  \n3   0.000000  \n4   0.000000  "
                    }, 
                    "output_type": "execute_result"
                }
            ], 
            "source": "# Try to get from geopy\nfor data in dfcity.itertuples():\n    address = ' {0}, {1}, Ontario'.format(data[1],data[2])\n    geolocator = Nominatim(user_agent=\"foursquare_agent\")\n    location = geolocator.geocode(address)\n    #print( address)\n    try:\n        latitude = location.latitude\n        longitude = location.longitude\n    except: \n        latitude =0\n        longitude = 0\n\n        \n    neighborhoods = neighborhoods.append({'Postcode': data[1],\n                                        'Borough': data[2],\n                                        'Neighborhood': data[3],\n                                        'Latitude': latitude,\n                                        'Longitude': longitude}, ignore_index=True)\n    \nneighborhoods.head()"
        }, 
        {
            "execution_count": 15, 
            "cell_type": "code", 
            "metadata": {}, 
            "outputs": [
                {
                    "execution_count": 15, 
                    "metadata": {}, 
                    "data": {
                        "text/plain": "0.000000     87\n42.858062     3\n43.773077     2\n43.756199     1\n43.662173     1\n43.732822     1\n43.816435     1\n43.649248     1\n43.644903     1\n43.718905     1\n43.654374     1\n43.659980     1\n43.763531     1\n43.675566     1\nName: Latitude, dtype: int64"
                    }, 
                    "output_type": "execute_result"
                }
            ], 
            "source": "neighborhoods['Latitude'].value_counts()"
        }, 
        {
            "source": "### The geopy is not generating the right/complete coordinates, Export coordinates from the csv instead", 
            "cell_type": "markdown", 
            "metadata": {}
        }, 
        {
            "execution_count": 16, 
            "cell_type": "code", 
            "metadata": {}, 
            "outputs": [
                {
                    "output_type": "stream", 
                    "name": "stdout", 
                    "text": "--2019-04-15 17:56:25--  http://cocl.us/Geospatial_data/Geospatial_Coordinates.csv\nResolving cocl.us (cocl.us)... 159.8.72.228\nConnecting to cocl.us (cocl.us)|159.8.72.228|:80... connected.\nHTTP request sent, awaiting response... 301 Moved Permanently\nLocation: https://cocl.us/Geospatial_data/Geospatial_Coordinates.csv [following]\n--2019-04-15 17:56:26--  https://cocl.us/Geospatial_data/Geospatial_Coordinates.csv\nConnecting to cocl.us (cocl.us)|159.8.72.228|:443... connected.\nHTTP request sent, awaiting response... 301 Moved Permanently\nLocation: https://ibm.box.com/shared/static/9afzr83pps4pwf2smjjcf1y5mvgb18rr.csv [following]\n--2019-04-15 17:56:26--  https://ibm.box.com/shared/static/9afzr83pps4pwf2smjjcf1y5mvgb18rr.csv\nResolving ibm.box.com (ibm.box.com)... 107.152.27.197\nConnecting to ibm.box.com (ibm.box.com)|107.152.27.197|:443... connected.\nHTTP request sent, awaiting response... 301 Moved Permanently\nLocation: /public/static/9afzr83pps4pwf2smjjcf1y5mvgb18rr.csv [following]\n--2019-04-15 17:56:27--  https://ibm.box.com/public/static/9afzr83pps4pwf2smjjcf1y5mvgb18rr.csv\nReusing existing connection to ibm.box.com:443.\nHTTP request sent, awaiting response... 301 Moved Permanently\nLocation: https://ibm.ent.box.com/public/static/9afzr83pps4pwf2smjjcf1y5mvgb18rr.csv [following]\n--2019-04-15 17:56:27--  https://ibm.ent.box.com/public/static/9afzr83pps4pwf2smjjcf1y5mvgb18rr.csv\nResolving ibm.ent.box.com (ibm.ent.box.com)... 107.152.27.211\nConnecting to ibm.ent.box.com (ibm.ent.box.com)|107.152.27.211|:443... connected.\nHTTP request sent, awaiting response... 302 Found\nLocation: https://public.boxcloud.com/d/1/b1!-BjtXjWUWC0UyohmCRmPVFe1kF1QMkZOBskdhq2NY7EBcZhHOFNbXS9zxamxs88vd3NMNPyspM24iDqXuQS8ZYl9-y7YtBsO6GuBg0ewdoAmIuK3YtbXmbz7HAQJH77T4UtQfZEEDHXRImj8OjSsNwsRVEEtBV6RNnas0I7IrK888MwWZ25JIRRkf1e3JbnCS7gUTeQ3BqktBxbk-PEfRTp9V6IPcDW00hMSWl-FeizYqMmOKQ-rQ1Ktz6VMKZZ8izeAReDTaIdBFwgeaxG2nLiLSXEAL74CNRjqJU9vD7Z2QzunyC8G6pUtvrBa-Sks1jRCFg-e-N-B62_LuyEMaNH0r9kIIJIVc5gm9Iq-HuX6sfaPp_3yF2IS_Nh9db4uFkBYrERMLGLud_UNw39kcvEtrCA6UWz7fCJnah0jaFCPBYPmgALI2pfNZlXimTzjyjIerBgTJE2A8yuoVbb_iT8UKcmz6r8GQCUgNo01mD-MJOIXZdLA0PRRuGa0xpTZ5B9abn4ydBUg6_1ZYDQzqz20wH8cWedddcJytmKo7oxRUB9QVnpngbQLcMlmRoP3mO0_GHgnRjwq-99wKV22A-83SwpCT0CXsZkvHWlDyRZHS8B0O0lnHNXRowdu1XlSoYNsesnwKilGYog4aercE6P8_YXG2fnj5hkQzz5BFcuLuj08JOgVr7ArFeGTgGJ1QKL-fPcYpyRMSAbi0wm137pxYqxutsBhYYcNUFT2es_G1bUiW5D4E4t82GSPbtpIFKzjSt5doYwy2D9zKdGhAloVqLLgT6URxvi3R_-SXSTxGBq6R9Nf_bFQ82qwhivLb9CdAUy0_tva_pKu1Tf_W8xfsrx7Djxxo6hdohz4grpsbIIR7b6HqrSQxxWOWhZ9g6pHcK1MVz4UA1jCj5Z71PmasE8iAyXDzFZcJlIbWRm-63pWH12BSCbB017NjC3haJWkSeyj3D9Pk_G6CzOydngq2J-30XMraDDc2rJWhdzgyf1cDluBygww_mLkRSWRb468Px4usq6TZP2fh2ApWC9_lja0C_h5JDZgnvQs6J3kL_9iewD6sTdvsmLymr813RigepKCilv66DBMYxPRpKFm541_3UrC-PCjSWWtfOsLmJuLctCsFcBR7zA8YruLYjb05ZHSv5eESAYE74ZVy_MMCgEmcYBeYlaWIjeQgtl1MP9PTWnXfa0sTzT81x6txt0kEAGdMQWbcxHqt2gsSzq2gE7WBM33b10BAO4ZU8rv1XvAy6JW1_OaW3X5LvVldQrCRI1FE8pK1LngdvmRNunJ3u_YkbdAkJ_AyQixuuwDQiEYCyw-Gt1gAmrPQJjzF-xJepAdXL7mN4dYnnlht7_ZwvgOCMuI4BWWUUJxFrRFsm9UJVsYkw../download [following]\n--2019-04-15 17:56:28--  https://public.boxcloud.com/d/1/b1!-BjtXjWUWC0UyohmCRmPVFe1kF1QMkZOBskdhq2NY7EBcZhHOFNbXS9zxamxs88vd3NMNPyspM24iDqXuQS8ZYl9-y7YtBsO6GuBg0ewdoAmIuK3YtbXmbz7HAQJH77T4UtQfZEEDHXRImj8OjSsNwsRVEEtBV6RNnas0I7IrK888MwWZ25JIRRkf1e3JbnCS7gUTeQ3BqktBxbk-PEfRTp9V6IPcDW00hMSWl-FeizYqMmOKQ-rQ1Ktz6VMKZZ8izeAReDTaIdBFwgeaxG2nLiLSXEAL74CNRjqJU9vD7Z2QzunyC8G6pUtvrBa-Sks1jRCFg-e-N-B62_LuyEMaNH0r9kIIJIVc5gm9Iq-HuX6sfaPp_3yF2IS_Nh9db4uFkBYrERMLGLud_UNw39kcvEtrCA6UWz7fCJnah0jaFCPBYPmgALI2pfNZlXimTzjyjIerBgTJE2A8yuoVbb_iT8UKcmz6r8GQCUgNo01mD-MJOIXZdLA0PRRuGa0xpTZ5B9abn4ydBUg6_1ZYDQzqz20wH8cWedddcJytmKo7oxRUB9QVnpngbQLcMlmRoP3mO0_GHgnRjwq-99wKV22A-83SwpCT0CXsZkvHWlDyRZHS8B0O0lnHNXRowdu1XlSoYNsesnwKilGYog4aercE6P8_YXG2fnj5hkQzz5BFcuLuj08JOgVr7ArFeGTgGJ1QKL-fPcYpyRMSAbi0wm137pxYqxutsBhYYcNUFT2es_G1bUiW5D4E4t82GSPbtpIFKzjSt5doYwy2D9zKdGhAloVqLLgT6URxvi3R_-SXSTxGBq6R9Nf_bFQ82qwhivLb9CdAUy0_tva_pKu1Tf_W8xfsrx7Djxxo6hdohz4grpsbIIR7b6HqrSQxxWOWhZ9g6pHcK1MVz4UA1jCj5Z71PmasE8iAyXDzFZcJlIbWRm-63pWH12BSCbB017NjC3haJWkSeyj3D9Pk_G6CzOydngq2J-30XMraDDc2rJWhdzgyf1cDluBygww_mLkRSWRb468Px4usq6TZP2fh2ApWC9_lja0C_h5JDZgnvQs6J3kL_9iewD6sTdvsmLymr813RigepKCilv66DBMYxPRpKFm541_3UrC-PCjSWWtfOsLmJuLctCsFcBR7zA8YruLYjb05ZHSv5eESAYE74ZVy_MMCgEmcYBeYlaWIjeQgtl1MP9PTWnXfa0sTzT81x6txt0kEAGdMQWbcxHqt2gsSzq2gE7WBM33b10BAO4ZU8rv1XvAy6JW1_OaW3X5LvVldQrCRI1FE8pK1LngdvmRNunJ3u_YkbdAkJ_AyQixuuwDQiEYCyw-Gt1gAmrPQJjzF-xJepAdXL7mN4dYnnlht7_ZwvgOCMuI4BWWUUJxFrRFsm9UJVsYkw../download\nResolving public.boxcloud.com (public.boxcloud.com)... 107.152.24.200, 107.152.25.200\nConnecting to public.boxcloud.com (public.boxcloud.com)|107.152.24.200|:443... connected.\nHTTP request sent, awaiting response... 200 OK\nLength: 2891 (2.8K) [text/csv]\nSaving to: \u2018Geospatial_Coordinates.csv\u2019\n\n100%[======================================>] 2,891       --.-K/s   in 0s      \n\n2019-04-15 17:56:28 (369 MB/s) - \u2018Geospatial_Coordinates.csv\u2019 saved [2891/2891]\n\n"
                }
            ], 
            "source": "!wget -O Geospatial_Coordinates.csv http://cocl.us/Geospatial_data/Geospatial_Coordinates.csv"
        }, 
        {
            "execution_count": 17, 
            "cell_type": "code", 
            "metadata": {}, 
            "outputs": [
                {
                    "execution_count": 17, 
                    "metadata": {}, 
                    "data": {
                        "text/html": "<div>\n<style scoped>\n    .dataframe tbody tr th:only-of-type {\n        vertical-align: middle;\n    }\n\n    .dataframe tbody tr th {\n        vertical-align: top;\n    }\n\n    .dataframe thead th {\n        text-align: right;\n    }\n</style>\n<table border=\"1\" class=\"dataframe\">\n  <thead>\n    <tr style=\"text-align: right;\">\n      <th></th>\n      <th>Postal Code</th>\n      <th>Latitude</th>\n      <th>Longitude</th>\n    </tr>\n  </thead>\n  <tbody>\n    <tr>\n      <th>0</th>\n      <td>M1B</td>\n      <td>43.806686</td>\n      <td>-79.194353</td>\n    </tr>\n    <tr>\n      <th>1</th>\n      <td>M1C</td>\n      <td>43.784535</td>\n      <td>-79.160497</td>\n    </tr>\n    <tr>\n      <th>2</th>\n      <td>M1E</td>\n      <td>43.763573</td>\n      <td>-79.188711</td>\n    </tr>\n    <tr>\n      <th>3</th>\n      <td>M1G</td>\n      <td>43.770992</td>\n      <td>-79.216917</td>\n    </tr>\n    <tr>\n      <th>4</th>\n      <td>M1H</td>\n      <td>43.773136</td>\n      <td>-79.239476</td>\n    </tr>\n  </tbody>\n</table>\n</div>", 
                        "text/plain": "  Postal Code   Latitude  Longitude\n0         M1B  43.806686 -79.194353\n1         M1C  43.784535 -79.160497\n2         M1E  43.763573 -79.188711\n3         M1G  43.770992 -79.216917\n4         M1H  43.773136 -79.239476"
                    }, 
                    "output_type": "execute_result"
                }
            ], 
            "source": "#Read csv\ncoorsourcedp = pd.read_csv(\"Geospatial_Coordinates.csv\")\ncoorsourcedp.head()"
        }, 
        {
            "execution_count": 18, 
            "cell_type": "code", 
            "metadata": {}, 
            "outputs": [
                {
                    "output_type": "stream", 
                    "name": "stdout", 
                    "text": "43.7845351\n"
                }
            ], 
            "source": "\ndummydf=coorsourcedp[coorsourcedp['Postal Code']=='M1C']   \ntlat=dummydf['Latitude'].values[0]\ntlong=dummydf['Longitude'].values[0]\nprint(tlat)"
        }, 
        {
            "execution_count": 19, 
            "cell_type": "code", 
            "metadata": {}, 
            "outputs": [
                {
                    "output_type": "stream", 
                    "name": "stdout", 
                    "text": "Postcode         object\nBorough          object\nNeighborhood     object\nLatitude        float64\nLongitude       float64\ndtype: object\n"
                }
            ], 
            "source": "# Regenerate neighborhoods\ncolumn_names=['Postcode', 'Borough', 'Neighborhood', 'Latitude', 'Longitude']\n\n# instantiate new dataframe\nneighborhoods = pd.DataFrame(columns=column_names)\n\n# Make sure the data types are correct\nneighborhoods['Latitude'] = neighborhoods['Latitude'].astype(np.float64)\nneighborhoods['Longitude'] = neighborhoods['Longitude'].astype(np.float64)\n\ntlat=0.0\ntlong=0.0\n\nfor data in dfcity.itertuples():\n    dummydf=coorsourcedp[coorsourcedp['Postal Code']==data[1]]   \n    tlat=dummydf['Latitude'].values[0]\n    tlong=dummydf['Longitude'].values[0]\n    #print(tlat)\n    neighborhoods = neighborhoods.append({'Postcode': data[1],\n                                        'Borough': data[2],\n                                        'Neighborhood': data[3],\n                                        'Latitude': tlat,\n                                        'Longitude': tlong}, ignore_index=True)\n\nprint(neighborhoods.dtypes)\n"
        }, 
        {
            "execution_count": 20, 
            "cell_type": "code", 
            "metadata": {}, 
            "outputs": [
                {
                    "execution_count": 20, 
                    "metadata": {}, 
                    "data": {
                        "text/html": "<div>\n<style scoped>\n    .dataframe tbody tr th:only-of-type {\n        vertical-align: middle;\n    }\n\n    .dataframe tbody tr th {\n        vertical-align: top;\n    }\n\n    .dataframe thead th {\n        text-align: right;\n    }\n</style>\n<table border=\"1\" class=\"dataframe\">\n  <thead>\n    <tr style=\"text-align: right;\">\n      <th></th>\n      <th>Postcode</th>\n      <th>Borough</th>\n      <th>Neighborhood</th>\n      <th>Latitude</th>\n      <th>Longitude</th>\n    </tr>\n  </thead>\n  <tbody>\n    <tr>\n      <th>0</th>\n      <td>M1B</td>\n      <td>Scarborough</td>\n      <td>Rouge,Malvern</td>\n      <td>43.806686</td>\n      <td>-79.194353</td>\n    </tr>\n    <tr>\n      <th>1</th>\n      <td>M1C</td>\n      <td>Scarborough</td>\n      <td>Highland Creek,Rouge Hill,Port Union</td>\n      <td>43.784535</td>\n      <td>-79.160497</td>\n    </tr>\n    <tr>\n      <th>2</th>\n      <td>M1E</td>\n      <td>Scarborough</td>\n      <td>Guildwood,Morningside,West Hill</td>\n      <td>43.763573</td>\n      <td>-79.188711</td>\n    </tr>\n    <tr>\n      <th>3</th>\n      <td>M1G</td>\n      <td>Scarborough</td>\n      <td>Woburn</td>\n      <td>43.770992</td>\n      <td>-79.216917</td>\n    </tr>\n    <tr>\n      <th>4</th>\n      <td>M1H</td>\n      <td>Scarborough</td>\n      <td>Cedarbrae</td>\n      <td>43.773136</td>\n      <td>-79.239476</td>\n    </tr>\n    <tr>\n      <th>5</th>\n      <td>M1J</td>\n      <td>Scarborough</td>\n      <td>Scarborough Village</td>\n      <td>43.744734</td>\n      <td>-79.239476</td>\n    </tr>\n    <tr>\n      <th>6</th>\n      <td>M1K</td>\n      <td>Scarborough</td>\n      <td>East Birchmount Park,Ionview,Kennedy Park</td>\n      <td>43.727929</td>\n      <td>-79.262029</td>\n    </tr>\n    <tr>\n      <th>7</th>\n      <td>M1L</td>\n      <td>Scarborough</td>\n      <td>Clairlea,Golden Mile,Oakridge</td>\n      <td>43.711112</td>\n      <td>-79.284577</td>\n    </tr>\n    <tr>\n      <th>8</th>\n      <td>M1M</td>\n      <td>Scarborough</td>\n      <td>Cliffcrest,Cliffside,Scarborough Village West</td>\n      <td>43.716316</td>\n      <td>-79.239476</td>\n    </tr>\n    <tr>\n      <th>9</th>\n      <td>M1N</td>\n      <td>Scarborough</td>\n      <td>Birch Cliff,Cliffside West</td>\n      <td>43.692657</td>\n      <td>-79.264848</td>\n    </tr>\n  </tbody>\n</table>\n</div>", 
                        "text/plain": "  Postcode      Borough                                   Neighborhood  \\\n0      M1B  Scarborough                                  Rouge,Malvern   \n1      M1C  Scarborough           Highland Creek,Rouge Hill,Port Union   \n2      M1E  Scarborough                Guildwood,Morningside,West Hill   \n3      M1G  Scarborough                                         Woburn   \n4      M1H  Scarborough                                      Cedarbrae   \n5      M1J  Scarborough                            Scarborough Village   \n6      M1K  Scarborough      East Birchmount Park,Ionview,Kennedy Park   \n7      M1L  Scarborough                  Clairlea,Golden Mile,Oakridge   \n8      M1M  Scarborough  Cliffcrest,Cliffside,Scarborough Village West   \n9      M1N  Scarborough                     Birch Cliff,Cliffside West   \n\n    Latitude  Longitude  \n0  43.806686 -79.194353  \n1  43.784535 -79.160497  \n2  43.763573 -79.188711  \n3  43.770992 -79.216917  \n4  43.773136 -79.239476  \n5  43.744734 -79.239476  \n6  43.727929 -79.262029  \n7  43.711112 -79.284577  \n8  43.716316 -79.239476  \n9  43.692657 -79.264848  "
                    }, 
                    "output_type": "execute_result"
                }
            ], 
            "source": "neighborhoods.head(10)"
        }, 
        {
            "execution_count": null, 
            "cell_type": "code", 
            "metadata": {}, 
            "outputs": [], 
            "source": ""
        }
    ], 
    "metadata": {
        "kernelspec": {
            "display_name": "Python 3.5", 
            "name": "python3", 
            "language": "python"
        }, 
        "language_info": {
            "mimetype": "text/x-python", 
            "nbconvert_exporter": "python", 
            "version": "3.5.5", 
            "name": "python", 
            "file_extension": ".py", 
            "pygments_lexer": "ipython3", 
            "codemirror_mode": {
                "version": 3, 
                "name": "ipython"
            }
        }
    }, 
    "nbformat": 4
}