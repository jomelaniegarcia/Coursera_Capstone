{
    "nbformat_minor": 1, 
    "cells": [
        {
            "source": "# The Battle of Neighborhoods (Week 1) by Jomelanie G. Lee", 
            "cell_type": "markdown", 
            "metadata": {
                "collapsed": true
            }
        }, 
        {
            "source": "## 1. A description of the problem and a discussion of the background.", 
            "cell_type": "markdown", 
            "metadata": {}
        }, 
        {
            "source": "If someone has decided to buy up-coming (pre-sales) condominium in Singapore, Assuming the buyer has no urgency to occupy the property and willing to wait until the construction gets completed. Which condominium you would recommend?\n<br>\n<br>\nThere are many pre-sale of condominiums right now. As a property consultant, it is your job to give the right recommendations to interested clients on which condominium they should avail. The client should provide the ideal condominium that they have in mind and you should suggest a similar of better condominium that is available in your sales list. \n<br>\n<br>\nYou should look at the similarities of their ideal condominium based on their amenities, and accessibility to its venues. Once you have a list of similar condominiums, recommend the one with the best price. \n", 
            "cell_type": "markdown", 
            "metadata": {}
        }, 
        {
            "source": "## 2.\tA description of the data and how it will be used to solve the problem. ", 
            "cell_type": "markdown", 
            "metadata": {}
        }, 
        {
            "source": "### Client ideal Condominium\n<li>We can pick a random condominium from: https://www.propertyguru.com.sg/condo-directory/search/name/A\n<li> No of Bedrooms-Random number (1-4)\n\n<br>\n\n### Sales List\nThis is the current list of all pre-sale condominiums in Singapore:\n<br>\nhttp://www.mysgprop.com/2018-complete-list-new-condominiums-in-singapore/\n\nFrom the above website, we can extract the following:\n<li> List of current pre-sale condominiums- We only need those condominiums that has a link to its website.\n<li> List of amenities each condominium has to offer-We can compare the similarities of their ideal condominium to the list that we have. We can extract this information from each website.\n<li> Prices per unit/per sqf.\n    \n<br>\n<br>\nBy using foursquare, we can check the venues surrounding their ideal condominium and compare all the venues surrounding the condominiums in our list. We can compare the similarities and advise which venues are similar to what they prefer. \n\nWe need to get the top 5 similar condominiums and rank them based on prices.", 
            "cell_type": "markdown", 
            "metadata": {}
        }, 
        {
            "execution_count": null, 
            "cell_type": "code", 
            "metadata": {}, 
            "outputs": [], 
            "source": ""
        }
    ], 
    "metadata": {
        "kernelspec": {
            "display_name": "Python 3.5", 
            "name": "python3", 
            "language": "python"
        }, 
        "language_info": {
            "mimetype": "text/x-python", 
            "nbconvert_exporter": "python", 
            "version": "3.5.5", 
            "name": "python", 
            "file_extension": ".py", 
            "pygments_lexer": "ipython3", 
            "codemirror_mode": {
                "version": 3, 
                "name": "ipython"
            }
        }
    }, 
    "nbformat": 4
}