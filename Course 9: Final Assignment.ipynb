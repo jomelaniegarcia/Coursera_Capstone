{
    "nbformat_minor": 1, 
    "cells": [
        {
            "source": "# The Battle of Neighborhoods (Week 1) by Jomelanie G. Lee", 
            "cell_type": "markdown", 
            "metadata": {
                "collapsed": true
            }
        }, 
        {
            "source": "## Introduction", 
            "cell_type": "markdown", 
            "metadata": {}
        }, 
        {
            "source": "Singapore is a business hub, the country has experience one of the most rapid emerging economy over the past 50 years. It is a highly developed market economy along with other countries such as Hong Kong, South Korea and Taiwan. Singapore is also ranked as one of the safest country in the world and with its excellent transportation and structures, it entices large amount of foreign investments. \n<br>\n<br>\nSingapore proud to have a diverse population. They have high tolerance on different races and religion. With this environment, it attracts expats from different parts of the world to settle or work there. With all the inconvenience and safety it has to offer, it is one of the best place for expats to live in. However, Singapore is also one of the densest country in the world. Rental prices are high and majority of the properties are provided by the government. Government housing are only available to Citizens and Permanent Residents. The only way for foreigners to have their own property is if it is a condomium. \n<br>\n<br>\nIn Singapore, \"Condo\" or \"Condominium\" are terms used for private housing development that comprises a collection of housing units with exclusive features like security guards, swimming pools and a gymnasium. Condominiums in Singapore come in the form of studio units, penthouse units, individual houses or multiple-room units.\n<br>\n<br>\nBuying condominiums can also be used as an investment as it can be rented straight away once received by its owner. This contribute to the increase in value of condominiums that are already build versus those that are on pre-sell. This opts buyers to purchase upcoming condominiums instead of those ready-made ones. \n<br>\n<br>\nWith high demand for up-coming condomiums, many property developers are trying to build as much as they can to fill-in the gap. This opens opportunities to Property Consultants to showcase and sell different properties to perspective buyers. Property consultants must have in-depth knowledge of the latest property trends and should assist buyers in finding the right houses for their buyers. ", 
            "cell_type": "markdown", 
            "metadata": {}
        }, 
        {
            "source": "## Problem Statement/ Business requirement", 
            "cell_type": "markdown", 
            "metadata": {}
        }, 
        {
            "source": "There are many pre-sale of condominiums right now. As a property consultant, it is your job to give the right recommendations to interested clients on which condominium they should avail. The client should provide the ideal condominium that they have in mind and you should suggest a similar of better condominium that is available in your sales list. \n<br>\n<br>\nYou should look at the similarities of their ideal condominium based on their amenities, and accessibility to its venues. Once you have a list of similar condominiums, recommend the one with the best price. \n", 
            "cell_type": "markdown", 
            "metadata": {}
        }, 
        {
            "source": "## Data Acquisition ", 
            "cell_type": "markdown", 
            "metadata": {}
        }, 
        {
            "source": "### Client ideal Condominium sample data\n<li>We can pick a random condominium from: https://www.propertyguru.com.sg/condo-directory/search/name/A\n<li> No of Bedrooms-Random number (1-4)\n\n<br>\n\n### Sales List\nThis is the current list of all pre-sale condominiums in Singapore:\n<br>\nhttp://www.mysgprop.com/2018-complete-list-new-condominiums-in-singapore/\n\nFrom the above website, we can extract the following:\n<li> List of current pre-sale condominiums- We only need those condominiums that has a link to its website.\n<li> List of amenities each condominium has to offer-We can compare the similarities of their ideal condominium to the list that we have. We can extract this information from each website.\n<li> Prices per unit/per sqf.\n    \n<br>\n<br>\nBy using foursquare, we can check the venues surrounding their ideal condominium and compare all the venues surrounding the condominiums in our list. We can compare the similarities and advise which venues are similar to what they prefer. \n\nWe need to get the top 5 similar condominiums and rank them based on prices.", 
            "cell_type": "markdown", 
            "metadata": {}
        }, 
        {
            "execution_count": null, 
            "cell_type": "code", 
            "metadata": {}, 
            "outputs": [], 
            "source": ""
        }
    ], 
    "metadata": {
        "kernelspec": {
            "display_name": "Python 3.5", 
            "name": "python3", 
            "language": "python"
        }, 
        "language_info": {
            "mimetype": "text/x-python", 
            "nbconvert_exporter": "python", 
            "version": "3.5.5", 
            "name": "python", 
            "file_extension": ".py", 
            "pygments_lexer": "ipython3", 
            "codemirror_mode": {
                "version": 3, 
                "name": "ipython"
            }
        }
    }, 
    "nbformat": 4
}